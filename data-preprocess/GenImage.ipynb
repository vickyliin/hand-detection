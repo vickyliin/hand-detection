{
 "cells": [
  {
   "cell_type": "code",
   "execution_count": 1,
   "metadata": {},
   "outputs": [
    {
     "name": "stderr",
     "output_type": "stream",
     "text": [
      "/nfs/nas-5.1/cwtsai/final/.env3.5/lib/python3.5/site-packages/h5py/__init__.py:36: FutureWarning: Conversion of the second argument of issubdtype from `float` to `np.floating` is deprecated. In future, it will be treated as `np.float64 == np.dtype(float).type`.\n",
      "  from ._conv import register_converters as _register_converters\n",
      "Using TensorFlow backend.\n"
     ]
    }
   ],
   "source": [
    "from keras.preprocessing.image import ImageDataGenerator\n",
    "ig = ImageDataGenerator(\n",
    "    rotation_range=55,\n",
    "    width_shift_range=0.1,\n",
    "    height_shift_range=0.1,\n",
    "    zoom_range=[0.85, 1.1],\n",
    "    horizontal_flip=True,\n",
    "    fill_mode='reflect',\n",
    "    data_format='channels_last'\n",
    ")\n",
    "# ig.fit(data_B)"
   ]
  },
  {
   "cell_type": "code",
   "execution_count": 2,
   "metadata": {},
   "outputs": [],
   "source": [
    "from PIL import Image\n",
    "import numpy as np\n",
    "import glob\n",
    "from random import randint, shuffle\n",
    "\n",
    "def load_data(file_pattern):\n",
    "    return glob.glob(file_pattern)\n",
    "\n",
    "def read_image_full(fn):\n",
    "    im = Image.open(fn).convert('RGB')\n",
    "#     im = im.resize( (loadSize, loadSize), Image.BILINEAR )\n",
    "    arr = np.array(im)/255*2-1\n",
    "#     w1,w2 = (loadSize-imageSize)//2,(loadSize+imageSize)//2\n",
    "#     h1,h2 = w1,w2\n",
    "#    img = arr[h1:h2, w1:w2, :]\n",
    "#     if randint(0,1):\n",
    "#         img=img[:,::-1]\n",
    "    return arr"
   ]
  },
  {
   "cell_type": "code",
   "execution_count": null,
   "metadata": {},
   "outputs": [],
   "source": [
    "from PIL import Image\n",
    "import numpy as np\n",
    "import glob\n",
    "from random import sample\n",
    "\n",
    "n_pic = 10000\n",
    "from tqdm import trange\n",
    "bs = 16\n",
    "for t in ['air', 'book']:\n",
    "    data = np.array([read_image_full(p) for p in sample(glob.glob('data/DeepQ-Vivepaper/frame/%s/*.png' % t), 2000)])\n",
    "    ig.fit(data)\n",
    "    cnt = 0\n",
    "    f = ig.flow(data, np.zeros(len(data)), batch_size=bs)\n",
    "    for i in trange(n_pic // bs):\n",
    "        d, _ = next(f)\n",
    "        for x in d:\n",
    "            x = ( (x+1)/2*255).clip(0,255).astype('uint8')\n",
    "            pathlib.Path(('data/DeepQ-Vivepaper/gen/%s' % t).mkdir(parents=True, exist_ok=True)\n",
    "            Image.fromarray(x).save('data/DeepQ-Vivepaper/gen/%s/%05d.png' % (t, cnt))\n",
    "            cnt = cnt + 1\n",
    "    del data\n",
    "    "
   ]
  }
 ],
 "metadata": {
  "kernelspec": {
   "display_name": "Python 3",
   "language": "python",
   "name": "python3"
  },
  "language_info": {
   "codemirror_mode": {
    "name": "ipython",
    "version": 3
   },
   "file_extension": ".py",
   "mimetype": "text/x-python",
   "name": "python",
   "nbconvert_exporter": "python",
   "pygments_lexer": "ipython3",
   "version": "3.5.3"
  }
 },
 "nbformat": 4,
 "nbformat_minor": 2
}
