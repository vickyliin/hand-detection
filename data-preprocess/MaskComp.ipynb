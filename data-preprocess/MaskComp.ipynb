{
 "cells": [
  {
   "cell_type": "code",
   "execution_count": null,
   "metadata": {},
   "outputs": [],
   "source": [
    "import glob\n",
    "import json\n",
    "import numpy as np\n",
    "def obtain_synth_in_size(path, area_ratio=0.2):\n",
    "    from glob import glob\n",
    "    import json\n",
    "    valid = []\n",
    "    for p_label, p_png in zip(\n",
    "            sorted(glob(path + '/label/*.json')),\n",
    "            sorted(glob(path + '/img/*.png'))):\n",
    "        with open(p_label) as f:\n",
    "            j = json.load(f)['bbox']\n",
    "            area = 0\n",
    "            for k in j:\n",
    "                v = j[k]\n",
    "                # for i in range(4):\n",
    "                #     v[i] = min(320 if i%2==0 else 240, max(0, v[i]))\n",
    "                area = max(area, (v[2]-v[0]) * (v[3]-v[1]) / 320 / 240)\n",
    "            if area < area_ratio:\n",
    "                valid.append(p_png)\n",
    "    return valid\n",
    "\n",
    "from PIL import Image, ImageDraw\n",
    "from IPython.display import display\n",
    "import numpy as np\n",
    "def draw_arm(fn):\n",
    "    j = fn.replace('img', 'label').replace('png', 'json')\n",
    "    m = fn.replace('img', 'mask')\n",
    "    with open(j) as f:\n",
    "        j = json.load(f)\n",
    "    im = Image.open(m).convert('RGB')\n",
    "    draw = ImageDraw.Draw(im)\n",
    "    for h, f in j['keypoint'].items():\n",
    "        plam = np.array(f['palm_middle.head'][:2])\n",
    "        fs = np.array([p for _, p in f.items()])\n",
    "        std = np.std(fs, axis=0)[:2]\n",
    "        std = (std[0]**2 + std[1]**2) ** 0.5\n",
    "        fs = fs.mean(axis=0)[:2]\n",
    "        for i in range(8):\n",
    "            p1 = plam - (plam-fs) * 0.5\n",
    "            p2 = plam + (plam-fs) * 20\n",
    "            p3 = plam + (plam-fs) * 3\n",
    "            p1, p2 = p1.tolist(), p2.tolist()\n",
    "            draw.line(p1 + p2, fill=(0, 0, 255), width=int(std*1.2))\n",
    "            fs[1] -= (abs(plam[1]-fs[1])+5) * 0.05\n",
    "    del draw\n",
    "    mm = np.array(im)\n",
    "    mm2 = np.array(Image.open(m).convert('RGB'))\n",
    "    mm2[...,2] = mm[...,2]\n",
    "    mm2[...,2][mm2[...,0]>0] = 0\n",
    "    mm2[...,2][mm2[...,1]>0] = 0\n",
    "    return Image.fromarray(mm2)\n"
   ]
  },
  {
   "cell_type": "code",
   "execution_count": null,
   "metadata": {},
   "outputs": [],
   "source": [
    "path_A = ['data/DeepQ-Synth-Hand-0%d/data/s00%d' % (i, j) for i, j in\n",
    "           [(1, 0), (1, 1), (1, 2), (1, 3), (1, 4), (2, 5), (2, 6), (2, 7), (2, 8), (2, 9)]]\n",
    "path_A = sum([obtain_synth_in_size(p, 0.12) for p in path_A], [])"
   ]
  },
  {
   "cell_type": "code",
   "execution_count": null,
   "metadata": {
    "scrolled": false
   },
   "outputs": [],
   "source": [
    "for p in path_A[:5]:\n",
    "    display(draw_arm(p))\n",
    "    "
   ]
  },
  {
   "cell_type": "code",
   "execution_count": null,
   "metadata": {},
   "outputs": [],
   "source": [
    "import pathlib\n",
    "from os.path import split\n",
    "import tqdm\n",
    "def new_path(p):\n",
    "    return '/'.join([n if n[:5]!='DeepQ' else 'DeepQ-Mask-Arm' for n in p.split('/')])\n",
    "\n",
    "for i, p in tqdm.tqdm(enumerate(path_A), total=len(path_A)):\n",
    "    im = draw_arm(p)\n",
    "    p = p.replace('img', 'mask')\n",
    "    pathlib.Path(split(new_path(p))[0]).mkdir(parents=True, exist_ok=True)\n",
    "    im.save(new_path(p))\n"
   ]
  },
  {
   "cell_type": "code",
   "execution_count": null,
   "metadata": {},
   "outputs": [],
   "source": []
  }
 ],
 "metadata": {
  "kernelspec": {
   "display_name": "Python 3",
   "language": "python",
   "name": "python3"
  },
  "language_info": {
   "codemirror_mode": {
    "name": "ipython",
    "version": 3
   },
   "file_extension": ".py",
   "mimetype": "text/x-python",
   "name": "python",
   "nbconvert_exporter": "python",
   "pygments_lexer": "ipython3",
   "version": "3.5.3"
  }
 },
 "nbformat": 4,
 "nbformat_minor": 2
}
