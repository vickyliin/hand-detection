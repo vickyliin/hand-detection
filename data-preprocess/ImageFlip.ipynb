{
 "cells": [
  {
   "cell_type": "code",
   "execution_count": null,
   "metadata": {},
   "outputs": [],
   "source": [
    "from glob import glob\n",
    "from PIL import Image\n",
    "import numpy as np\n",
    "\n",
    "path = []\n",
    "path = path + ['data/DeepQ-Synth-Hand-0%d/data/s00%d' % (i, j) for i, j in\n",
    "           [(1, 0), (1, 1), (1, 2), (1, 3), (1, 4), (2, 5), (2, 6), (2, 7), (2, 8), (2, 9)]]\n",
    "path = path + ['data/DeepQ-Vivepaper/data/air', 'data/DeepQ-Vivepaper/data/book']\n",
    "path_img = [ p + '/img/*.png' for p in path ]\n",
    "path_img = sum([glob(p) for p in path_img], [])\n",
    "\n",
    "path_label = [ p + '/label/*.json' for p in path ]\n",
    "path_label = sum([glob(p) for p in path_label], [])\n",
    "\n",
    "path_label.sort()\n",
    "path_img.sort()\n",
    "pathes = list(zip(path_img, path_label))"
   ]
  },
  {
   "cell_type": "code",
   "execution_count": null,
   "metadata": {},
   "outputs": [],
   "source": [
    "def xy_flip(j, im):\n",
    "    if len(j)==4:\n",
    "        return [im.size[0]-j[2], j[1], im.size[0]-j[0], j[3]]\n",
    "    else:\n",
    "        return j\n",
    "def label_flip(k):\n",
    "    if k in ['L', 'R']:\n",
    "        return 'L' if k=='R' else 'R'\n",
    "    return k\n",
    "def json_flip(j, im):\n",
    "    return {label_flip(k) : (json_flip if type(v) is dict else xy_flip)(v, im) for k, v in j.items()}"
   ]
  },
  {
   "cell_type": "code",
   "execution_count": null,
   "metadata": {},
   "outputs": [],
   "source": [
    "import json\n",
    "import pathlib\n",
    "from PIL import Image\n",
    "from os.path import split\n",
    "new_path = lambda p: '/'.join([n if n[:5]!='DeepQ' else 'DeepQ-Flipped' for n in p.split('/')])\n",
    "\n",
    "import tqdm\n",
    "for ip, lp in tqdm.tqdm(pathes, total=len(pathes)):\n",
    "    with open(lp) as f:\n",
    "        j = json.load(f)\n",
    "    pathlib.Path(split(new_path(ip))[0]).mkdir(parents=True, exist_ok=True)\n",
    "    pathlib.Path(split(new_path(lp))[0]).mkdir(parents=True, exist_ok=True)\n",
    "    im = Image.open(ip).convert('RGB').transpose(Image.FLIP_LEFT_RIGHT)\n",
    "    im.save(new_path(ip))\n",
    "    with open(new_path(lp), 'w') as f:\n",
    "        json.dump(json_flip(j, im), f, indent=2)\n"
   ]
  }
 ],
 "metadata": {
  "kernelspec": {
   "display_name": "Python 3",
   "language": "python",
   "name": "python3"
  },
  "language_info": {
   "codemirror_mode": {
    "name": "ipython",
    "version": 3
   },
   "file_extension": ".py",
   "mimetype": "text/x-python",
   "name": "python",
   "nbconvert_exporter": "python",
   "pygments_lexer": "ipython3",
   "version": "3.5.3"
  }
 },
 "nbformat": 4,
 "nbformat_minor": 2
}
